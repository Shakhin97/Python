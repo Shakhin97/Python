{
 "cells": [
  {
   "cell_type": "code",
   "execution_count": 40,
   "id": "730fd5bc",
   "metadata": {},
   "outputs": [],
   "source": [
    "import random\n",
    "def sontop(x=10):\n",
    "    tasodifiy_son = random.randint(1,x)\n",
    "    print(f\"Men 1 dan {x} gacha bitta son o'yladim. Topa olasizmi? \")\n",
    "    taxminlar = 0\n",
    "    while True:\n",
    "        taxminlar +=1\n",
    "        taxmin = int(input(\">>>\"))\n",
    "        if taxmin<tasodifiy_son:\n",
    "            print(\"Xato! Men o'ylagan son bundan kattaroq. Yana urinib ko'ring!\")\n",
    "        elif taxmin>tasodifiy_son:\n",
    "             print(\"Xato! Men o'ylagan son bundan kichkroq. Yana urinib ko'ring!\")\n",
    "        else:\n",
    "            break \n",
    "    return taxminlar    \n",
    "    print(f\"Tabriklayman! Siz {taxminlar} ta taxmin bilan topdingiz!\")"
   ]
  },
  {
   "cell_type": "code",
   "execution_count": 41,
   "id": "171b8b9c",
   "metadata": {},
   "outputs": [
    {
     "name": "stdout",
     "output_type": "stream",
     "text": [
      "Men 1 dan 10 gacha bitta son o'yladim. Topa olasizmi? \n",
      ">>>1\n",
      "Xato! Men o'ylagan son bundan kattaroq. Yana urinib ko'ring!\n",
      ">>>2\n",
      "Xato! Men o'ylagan son bundan kattaroq. Yana urinib ko'ring!\n",
      ">>>7\n",
      "Xato! Men o'ylagan son bundan kichkroq. Yana urinib ko'ring!\n",
      ">>>5\n",
      "Xato! Men o'ylagan son bundan kichkroq. Yana urinib ko'ring!\n",
      ">>>6\n",
      "Xato! Men o'ylagan son bundan kichkroq. Yana urinib ko'ring!\n",
      ">>>3\n",
      "Xato! Men o'ylagan son bundan kattaroq. Yana urinib ko'ring!\n",
      ">>>4\n"
     ]
    },
    {
     "data": {
      "text/plain": [
       "7"
      ]
     },
     "execution_count": 41,
     "metadata": {},
     "output_type": "execute_result"
    }
   ],
   "source": [
    "sontop()"
   ]
  },
  {
   "cell_type": "code",
   "execution_count": null,
   "id": "68a1ce99",
   "metadata": {},
   "outputs": [],
   "source": [
    "import random \n",
    "def sontop_pc(x=10):\n",
    "    input(f\"1 dan {x} gacha bir son o'ylang va bir son kiriting! Men topaman: \")\n",
    "    quyi = 1\n",
    "    yuqori = x\n",
    "    \n",
    "    while True:\n",
    "        if quyi!=yuqori:\n",
    "            taxmin=random.randint(quyi, yuqori)\n",
    "        else:\n",
    "            taxmin=yuqori\n",
    "            javob = input(f\"Siz {taxmin} sonini o'yladingiz: to'gri(t)\"\n",
    "                f\"Men o'ylagan son bundan kattaroq (+), yoki kichikroq(-)\".lower())\n",
    "        if javob==\"-\":\n",
    "                yuqori = taxmin-1\n",
    "        elif javob==\"+\":\n",
    "                quyi = taxmin+1\n",
    "        else:\n",
    "                break\n",
    "    print(\"Topdim\")\n",
    "            "
   ]
  },
  {
   "cell_type": "code",
   "execution_count": 51,
   "id": "adbccaf7",
   "metadata": {},
   "outputs": [
    {
     "name": "stdout",
     "output_type": "stream",
     "text": [
      "1 dan 10 gacha bir son o'ylang va bir son kiriting! Men topaman: 5\n"
     ]
    },
    {
     "ename": "KeyboardInterrupt",
     "evalue": "",
     "output_type": "error",
     "traceback": [
      "\u001b[1;31m---------------------------------------------------------------------------\u001b[0m",
      "\u001b[1;31mKeyboardInterrupt\u001b[0m                         Traceback (most recent call last)",
      "Input \u001b[1;32mIn [51]\u001b[0m, in \u001b[0;36m<cell line: 1>\u001b[1;34m()\u001b[0m\n\u001b[1;32m----> 1\u001b[0m \u001b[43msontop_pc\u001b[49m\u001b[43m(\u001b[49m\u001b[43m)\u001b[49m\n",
      "Input \u001b[1;32mIn [45]\u001b[0m, in \u001b[0;36msontop_pc\u001b[1;34m(x)\u001b[0m\n\u001b[0;32m      5\u001b[0m \u001b[38;5;28;01mwhile\u001b[39;00m \u001b[38;5;28;01mTrue\u001b[39;00m:\n\u001b[0;32m      6\u001b[0m     \u001b[38;5;28;01mif\u001b[39;00m quyi\u001b[38;5;241m!=\u001b[39myuqori:\n\u001b[1;32m----> 7\u001b[0m         taxmin\u001b[38;5;241m=\u001b[39m\u001b[43mrandom\u001b[49m\u001b[38;5;241;43m.\u001b[39;49m\u001b[43mrandint\u001b[49m\u001b[43m(\u001b[49m\u001b[43mquyi\u001b[49m\u001b[43m,\u001b[49m\u001b[43m \u001b[49m\u001b[43myuqori\u001b[49m\u001b[43m)\u001b[49m\n\u001b[0;32m      8\u001b[0m     \u001b[38;5;28;01melse\u001b[39;00m:\n\u001b[0;32m      9\u001b[0m         taxmin\u001b[38;5;241m=\u001b[39myuqori\n",
      "File \u001b[1;32m~\\anaconda3\\envs\\Django_darslari\\lib\\random.py:338\u001b[0m, in \u001b[0;36mRandom.randint\u001b[1;34m(self, a, b)\u001b[0m\n\u001b[0;32m    334\u001b[0m \u001b[38;5;28;01mdef\u001b[39;00m \u001b[38;5;21mrandint\u001b[39m(\u001b[38;5;28mself\u001b[39m, a, b):\n\u001b[0;32m    335\u001b[0m     \u001b[38;5;124;03m\"\"\"Return random integer in range [a, b], including both end points.\u001b[39;00m\n\u001b[0;32m    336\u001b[0m \u001b[38;5;124;03m    \"\"\"\u001b[39;00m\n\u001b[1;32m--> 338\u001b[0m     \u001b[38;5;28;01mreturn\u001b[39;00m \u001b[38;5;28;43mself\u001b[39;49m\u001b[38;5;241;43m.\u001b[39;49m\u001b[43mrandrange\u001b[49m\u001b[43m(\u001b[49m\u001b[43ma\u001b[49m\u001b[43m,\u001b[49m\u001b[43m \u001b[49m\u001b[43mb\u001b[49m\u001b[38;5;241;43m+\u001b[39;49m\u001b[38;5;241;43m1\u001b[39;49m\u001b[43m)\u001b[49m\n",
      "File \u001b[1;32m~\\anaconda3\\envs\\Django_darslari\\lib\\random.py:312\u001b[0m, in \u001b[0;36mRandom.randrange\u001b[1;34m(self, start, stop, step)\u001b[0m\n\u001b[0;32m    310\u001b[0m \u001b[38;5;28;01mif\u001b[39;00m istop \u001b[38;5;241m!=\u001b[39m stop:\n\u001b[0;32m    311\u001b[0m     \u001b[38;5;28;01mraise\u001b[39;00m \u001b[38;5;167;01mValueError\u001b[39;00m(\u001b[38;5;124m\"\u001b[39m\u001b[38;5;124mnon-integer stop for randrange()\u001b[39m\u001b[38;5;124m\"\u001b[39m)\n\u001b[1;32m--> 312\u001b[0m width \u001b[38;5;241m=\u001b[39m \u001b[43mistop\u001b[49m\u001b[43m \u001b[49m\u001b[38;5;241;43m-\u001b[39;49m\u001b[43m \u001b[49m\u001b[43mistart\u001b[49m\n\u001b[0;32m    313\u001b[0m \u001b[38;5;28;01mif\u001b[39;00m step \u001b[38;5;241m==\u001b[39m \u001b[38;5;241m1\u001b[39m \u001b[38;5;129;01mand\u001b[39;00m width \u001b[38;5;241m>\u001b[39m \u001b[38;5;241m0\u001b[39m:\n\u001b[0;32m    314\u001b[0m     \u001b[38;5;28;01mreturn\u001b[39;00m istart \u001b[38;5;241m+\u001b[39m \u001b[38;5;28mself\u001b[39m\u001b[38;5;241m.\u001b[39m_randbelow(width)\n",
      "\u001b[1;31mKeyboardInterrupt\u001b[0m: "
     ]
    }
   ],
   "source": [
    "sontop_pc()"
   ]
  },
  {
   "cell_type": "code",
   "execution_count": null,
   "id": "049d0b10",
   "metadata": {},
   "outputs": [],
   "source": []
  },
  {
   "cell_type": "code",
   "execution_count": null,
   "id": "3da655e0",
   "metadata": {},
   "outputs": [],
   "source": []
  }
 ],
 "metadata": {
  "kernelspec": {
   "display_name": "Python 3 (ipykernel)",
   "language": "python",
   "name": "python3"
  },
  "language_info": {
   "codemirror_mode": {
    "name": "ipython",
    "version": 3
   },
   "file_extension": ".py",
   "mimetype": "text/x-python",
   "name": "python",
   "nbconvert_exporter": "python",
   "pygments_lexer": "ipython3",
   "version": "3.9.12"
  }
 },
 "nbformat": 4,
 "nbformat_minor": 5
}
